{
 "cells": [
  {
   "cell_type": "code",
   "execution_count": null,
   "metadata": {},
   "outputs": [],
   "source": [
    "# code is from kaggle, data is from Udemy \n",
    "# https://www.kaggle.com/nirajvermafcb/principal-component-analysis-explained\n",
    "# https://www.youtube.com/watch?v=n7npKX5zIWI&t=548s"
   ]
  },
  {
   "cell_type": "code",
   "execution_count": 57,
   "metadata": {},
   "outputs": [],
   "source": [
    "import numpy as np\n",
    "import pandas as pd\n",
    "import matplotlib.pyplot as plt"
   ]
  },
  {
   "cell_type": "code",
   "execution_count": 58,
   "metadata": {},
   "outputs": [
    {
     "data": {
      "text/html": [
       "<div>\n",
       "<style scoped>\n",
       "    .dataframe tbody tr th:only-of-type {\n",
       "        vertical-align: middle;\n",
       "    }\n",
       "\n",
       "    .dataframe tbody tr th {\n",
       "        vertical-align: top;\n",
       "    }\n",
       "\n",
       "    .dataframe thead th {\n",
       "        text-align: right;\n",
       "    }\n",
       "</style>\n",
       "<table border=\"1\" class=\"dataframe\">\n",
       "  <thead>\n",
       "    <tr style=\"text-align: right;\">\n",
       "      <th></th>\n",
       "      <th>Alcohol</th>\n",
       "      <th>Malic_Acid</th>\n",
       "      <th>Ash</th>\n",
       "      <th>Ash_Alcanity</th>\n",
       "      <th>Magnesium</th>\n",
       "      <th>Total_Phenols</th>\n",
       "      <th>Flavanoids</th>\n",
       "      <th>Nonflavanoid_Phenols</th>\n",
       "      <th>Proanthocyanins</th>\n",
       "      <th>Color_Intensity</th>\n",
       "      <th>Hue</th>\n",
       "      <th>OD280</th>\n",
       "      <th>Proline</th>\n",
       "      <th>Customer_Segment</th>\n",
       "    </tr>\n",
       "  </thead>\n",
       "  <tbody>\n",
       "    <tr>\n",
       "      <th>0</th>\n",
       "      <td>14.23</td>\n",
       "      <td>1.71</td>\n",
       "      <td>2.43</td>\n",
       "      <td>15.6</td>\n",
       "      <td>127</td>\n",
       "      <td>2.80</td>\n",
       "      <td>3.06</td>\n",
       "      <td>0.28</td>\n",
       "      <td>2.29</td>\n",
       "      <td>5.64</td>\n",
       "      <td>1.04</td>\n",
       "      <td>3.92</td>\n",
       "      <td>1065</td>\n",
       "      <td>1</td>\n",
       "    </tr>\n",
       "    <tr>\n",
       "      <th>1</th>\n",
       "      <td>13.20</td>\n",
       "      <td>1.78</td>\n",
       "      <td>2.14</td>\n",
       "      <td>11.2</td>\n",
       "      <td>100</td>\n",
       "      <td>2.65</td>\n",
       "      <td>2.76</td>\n",
       "      <td>0.26</td>\n",
       "      <td>1.28</td>\n",
       "      <td>4.38</td>\n",
       "      <td>1.05</td>\n",
       "      <td>3.40</td>\n",
       "      <td>1050</td>\n",
       "      <td>1</td>\n",
       "    </tr>\n",
       "    <tr>\n",
       "      <th>2</th>\n",
       "      <td>13.16</td>\n",
       "      <td>2.36</td>\n",
       "      <td>2.67</td>\n",
       "      <td>18.6</td>\n",
       "      <td>101</td>\n",
       "      <td>2.80</td>\n",
       "      <td>3.24</td>\n",
       "      <td>0.30</td>\n",
       "      <td>2.81</td>\n",
       "      <td>5.68</td>\n",
       "      <td>1.03</td>\n",
       "      <td>3.17</td>\n",
       "      <td>1185</td>\n",
       "      <td>1</td>\n",
       "    </tr>\n",
       "    <tr>\n",
       "      <th>3</th>\n",
       "      <td>14.37</td>\n",
       "      <td>1.95</td>\n",
       "      <td>2.50</td>\n",
       "      <td>16.8</td>\n",
       "      <td>113</td>\n",
       "      <td>3.85</td>\n",
       "      <td>3.49</td>\n",
       "      <td>0.24</td>\n",
       "      <td>2.18</td>\n",
       "      <td>7.80</td>\n",
       "      <td>0.86</td>\n",
       "      <td>3.45</td>\n",
       "      <td>1480</td>\n",
       "      <td>1</td>\n",
       "    </tr>\n",
       "    <tr>\n",
       "      <th>4</th>\n",
       "      <td>13.24</td>\n",
       "      <td>2.59</td>\n",
       "      <td>2.87</td>\n",
       "      <td>21.0</td>\n",
       "      <td>118</td>\n",
       "      <td>2.80</td>\n",
       "      <td>2.69</td>\n",
       "      <td>0.39</td>\n",
       "      <td>1.82</td>\n",
       "      <td>4.32</td>\n",
       "      <td>1.04</td>\n",
       "      <td>2.93</td>\n",
       "      <td>735</td>\n",
       "      <td>1</td>\n",
       "    </tr>\n",
       "  </tbody>\n",
       "</table>\n",
       "</div>"
      ],
      "text/plain": [
       "   Alcohol  Malic_Acid   Ash  Ash_Alcanity  Magnesium  Total_Phenols  \\\n",
       "0    14.23        1.71  2.43          15.6        127           2.80   \n",
       "1    13.20        1.78  2.14          11.2        100           2.65   \n",
       "2    13.16        2.36  2.67          18.6        101           2.80   \n",
       "3    14.37        1.95  2.50          16.8        113           3.85   \n",
       "4    13.24        2.59  2.87          21.0        118           2.80   \n",
       "\n",
       "   Flavanoids  Nonflavanoid_Phenols  Proanthocyanins  Color_Intensity   Hue  \\\n",
       "0        3.06                  0.28             2.29             5.64  1.04   \n",
       "1        2.76                  0.26             1.28             4.38  1.05   \n",
       "2        3.24                  0.30             2.81             5.68  1.03   \n",
       "3        3.49                  0.24             2.18             7.80  0.86   \n",
       "4        2.69                  0.39             1.82             4.32  1.04   \n",
       "\n",
       "   OD280  Proline  Customer_Segment  \n",
       "0   3.92     1065                 1  \n",
       "1   3.40     1050                 1  \n",
       "2   3.17     1185                 1  \n",
       "3   3.45     1480                 1  \n",
       "4   2.93      735                 1  "
      ]
     },
     "execution_count": 58,
     "metadata": {},
     "output_type": "execute_result"
    }
   ],
   "source": [
    "dataset = pd.read_csv('Wine.csv')\n",
    "dataset.head()"
   ]
  },
  {
   "cell_type": "code",
   "execution_count": 59,
   "metadata": {},
   "outputs": [
    {
     "data": {
      "text/plain": [
       "Alcohol                 0\n",
       "Malic_Acid              0\n",
       "Ash                     0\n",
       "Ash_Alcanity            0\n",
       "Magnesium               0\n",
       "Total_Phenols           0\n",
       "Flavanoids              0\n",
       "Nonflavanoid_Phenols    0\n",
       "Proanthocyanins         0\n",
       "Color_Intensity         0\n",
       "Hue                     0\n",
       "OD280                   0\n",
       "Proline                 0\n",
       "Customer_Segment        0\n",
       "dtype: int64"
      ]
     },
     "execution_count": 59,
     "metadata": {},
     "output_type": "execute_result"
    }
   ],
   "source": [
    "dataset.isnull().sum()"
   ]
  },
  {
   "cell_type": "code",
   "execution_count": 60,
   "metadata": {},
   "outputs": [
    {
     "data": {
      "text/plain": [
       "(array([[1.423e+01, 1.710e+00, 2.430e+00, ..., 1.040e+00, 3.920e+00,\n",
       "         1.065e+03],\n",
       "        [1.320e+01, 1.780e+00, 2.140e+00, ..., 1.050e+00, 3.400e+00,\n",
       "         1.050e+03],\n",
       "        [1.316e+01, 2.360e+00, 2.670e+00, ..., 1.030e+00, 3.170e+00,\n",
       "         1.185e+03],\n",
       "        ...,\n",
       "        [1.327e+01, 4.280e+00, 2.260e+00, ..., 5.900e-01, 1.560e+00,\n",
       "         8.350e+02],\n",
       "        [1.317e+01, 2.590e+00, 2.370e+00, ..., 6.000e-01, 1.620e+00,\n",
       "         8.400e+02],\n",
       "        [1.413e+01, 4.100e+00, 2.740e+00, ..., 6.100e-01, 1.600e+00,\n",
       "         5.600e+02]]),\n",
       " array([1, 1, 1, 1, 1, 1, 1, 1, 1, 1, 1, 1, 1, 1, 1, 1, 1, 1, 1, 1, 1, 1,\n",
       "        1, 1, 1, 1, 1, 1, 1, 1, 1, 1, 1, 1, 1, 1, 1, 1, 1, 1, 1, 1, 1, 1,\n",
       "        1, 1, 1, 1, 1, 1, 1, 1, 1, 1, 1, 1, 1, 1, 1, 2, 2, 2, 2, 2, 2, 2,\n",
       "        2, 2, 2, 2, 2, 2, 2, 2, 2, 2, 2, 2, 2, 2, 2, 2, 2, 2, 2, 2, 2, 2,\n",
       "        2, 2, 2, 2, 2, 2, 2, 2, 2, 2, 2, 2, 2, 2, 2, 2, 2, 2, 2, 2, 2, 2,\n",
       "        2, 2, 2, 2, 2, 2, 2, 2, 2, 2, 2, 2, 2, 2, 2, 2, 2, 2, 2, 2, 3, 3,\n",
       "        3, 3, 3, 3, 3, 3, 3, 3, 3, 3, 3, 3, 3, 3, 3, 3, 3, 3, 3, 3, 3, 3,\n",
       "        3, 3, 3, 3, 3, 3, 3, 3, 3, 3, 3, 3, 3, 3, 3, 3, 3, 3, 3, 3, 3, 3,\n",
       "        3, 3], dtype=int64))"
      ]
     },
     "execution_count": 60,
     "metadata": {},
     "output_type": "execute_result"
    }
   ],
   "source": [
    "X = dataset.iloc[:,:-1].values\n",
    "y = dataset.iloc[:,-1].values\n",
    "X,y"
   ]
  },
  {
   "cell_type": "markdown",
   "metadata": {},
   "source": [
    "### Splitting the dataset into the Training and Test sets"
   ]
  },
  {
   "cell_type": "code",
   "execution_count": 61,
   "metadata": {},
   "outputs": [],
   "source": [
    "from sklearn.model_selection import train_test_split\n",
    "X_train, X_test, y_train, y_test = train_test_split(X,y,test_size=0.2, random_state = 0)"
   ]
  },
  {
   "cell_type": "markdown",
   "metadata": {},
   "source": [
    "### Feature Scaling\n",
    "\n",
    "* Standardization is all about scaling your data in such a way that all the variables and their values lie within a similar range\n",
    "\n",
    "\n",
    "*  if there is a significant difference in the scale between the features of the dataset; for example, \n",
    "   one feature ranges in values between 0 and 1 and another between 100 and 1,000. PCA is very sensitive \n",
    "   to the relative ranges of the original features. We can apply z-score standardization to get all features \n",
    "   into the same scale by using Scikit-learn StandardScaler() class which is in the preprocessing submodule in Scikit-learn."
   ]
  },
  {
   "cell_type": "code",
   "execution_count": 62,
   "metadata": {},
   "outputs": [
    {
     "data": {
      "text/plain": [
       "((142, 13), (36, 13))"
      ]
     },
     "execution_count": 62,
     "metadata": {},
     "output_type": "execute_result"
    }
   ],
   "source": [
    "from sklearn.preprocessing import StandardScaler\n",
    "sc = StandardScaler()\n",
    "X_train = sc.fit_transform(X_train)\n",
    "X_test = sc.transform(X_test)\n",
    "\n",
    "X_train.shape, X_test.shape\n",
    "\n",
    "#when u are applying your standard scaler object to your training set u have to fit the object of the training set and then\n",
    "#transform it, and when coming to test set we only transform and don't fit the object b'cause it's already fitted to the \n",
    "#training set."
   ]
  },
  {
   "cell_type": "markdown",
   "metadata": {},
   "source": [
    "### Eigendecomposition - Computing Eigenvectors and Eigenvalues\n",
    "* The eigenvectors and eigenvalues of a covariance (or correlation) matrix represent the “core” of a PCA: The eigenvectors    (principal components) determine the directions of the new feature space, and the eigenvalues determine their magnitude. In      other words, the eigenvalues explain the variance of the data along the new feature axes.\n",
    "\n",
    "### Covariance Matrix \n",
    "* The classic approach to PCA is to perform the eigendecomposition on the covariance matrix , which is a matrix where each element represents the covariance between two features. The covariance between two features is calculated as follows:\n",
    "\n",
    "Cov(X,Y)=∑(xi−x¯)(yi−y¯)/N−1"
   ]
  },
  {
   "cell_type": "code",
   "execution_count": 63,
   "metadata": {},
   "outputs": [
    {
     "name": "stdout",
     "output_type": "stream",
     "text": [
      "Covariance matrix \n",
      "[[ 1.0070922   0.10158986  0.26809509 -0.27516974  0.23703425  0.31671433\n",
      "   0.27851441 -0.10086553  0.1305509   0.57003979 -0.06801958  0.05747774\n",
      "   0.62420905]\n",
      " [ 0.10158986  1.0070922   0.17469631  0.26867072 -0.03184697 -0.32482824\n",
      "  -0.42013761  0.33304303 -0.22082499  0.30464878 -0.54532022 -0.39388534\n",
      "  -0.18750673]\n",
      " [ 0.26809509  0.17469631  1.0070922   0.44913101  0.20279733  0.16173403\n",
      "   0.09405082  0.15934325  0.01757216  0.26297426 -0.09527385 -0.01162687\n",
      "   0.19229708]\n",
      " [-0.27516974  0.26867072  0.44913101  1.0070922  -0.10161795 -0.32802847\n",
      "  -0.4026876   0.38895703 -0.21705802  0.01275967 -0.25428449 -0.30031831\n",
      "  -0.43572181]\n",
      " [ 0.23703425 -0.03184697  0.20279733 -0.10161795  1.0070922   0.18356106\n",
      "   0.16698341 -0.31275131  0.26207895  0.15237759  0.04270468  0.03007895\n",
      "   0.34142812]\n",
      " [ 0.31671433 -0.32482824  0.16173403 -0.32802847  0.18356106  1.0070922\n",
      "   0.86413313 -0.4576375   0.62739301 -0.06254654  0.45572406  0.71439803\n",
      "   0.53185581]\n",
      " [ 0.27851441 -0.42013761  0.09405082 -0.4026876   0.16698341  0.86413313\n",
      "   1.0070922  -0.58037954  0.66722271 -0.20619231  0.5913848   0.80281821\n",
      "   0.54364005]\n",
      " [-0.10086553  0.33304303  0.15934325  0.38895703 -0.31275131 -0.4576375\n",
      "  -0.58037954  1.0070922  -0.32612799  0.19408361 -0.3308522  -0.51346418\n",
      "  -0.33294415]\n",
      " [ 0.1305509  -0.22082499  0.01757216 -0.21705802  0.26207895  0.62739301\n",
      "   0.66722271 -0.32612799  1.0070922  -0.03153532  0.31249257  0.50922193\n",
      "   0.35522199]\n",
      " [ 0.57003979  0.30464878  0.26297426  0.01275967  0.15237759 -0.06254654\n",
      "  -0.20619231  0.19408361 -0.03153532  1.0070922  -0.54975259 -0.45627551\n",
      "   0.31188331]\n",
      " [-0.06801958 -0.54532022 -0.09527385 -0.25428449  0.04270468  0.45572406\n",
      "   0.5913848  -0.3308522   0.31249257 -0.54975259  1.0070922   0.60932504\n",
      "   0.22836735]\n",
      " [ 0.05747774 -0.39388534 -0.01162687 -0.30031831  0.03007895  0.71439803\n",
      "   0.80281821 -0.51346418  0.50922193 -0.45627551  0.60932504  1.0070922\n",
      "   0.30649834]\n",
      " [ 0.62420905 -0.18750673  0.19229708 -0.43572181  0.34142812  0.53185581\n",
      "   0.54364005 -0.33294415  0.35522199  0.31188331  0.22836735  0.30649834\n",
      "   1.0070922 ]]\n"
     ]
    }
   ],
   "source": [
    "X_mean = np.mean(X_train, axis=0)\n",
    "cov_mat = (X_train - X_mean).T.dot((X_train - X_mean)) / (X_train.shape[0]-1)\n",
    "print('Covariance matrix \\n%s' %cov_mat)"
   ]
  },
  {
   "cell_type": "code",
   "execution_count": 64,
   "metadata": {},
   "outputs": [
    {
     "name": "stdout",
     "output_type": "stream",
     "text": [
      "Covariance matrix \n",
      "[[ 1.0070922   0.10158986  0.26809509 -0.27516974  0.23703425  0.31671433\n",
      "   0.27851441 -0.10086553  0.1305509   0.57003979 -0.06801958  0.05747774\n",
      "   0.62420905]\n",
      " [ 0.10158986  1.0070922   0.17469631  0.26867072 -0.03184697 -0.32482824\n",
      "  -0.42013761  0.33304303 -0.22082499  0.30464878 -0.54532022 -0.39388534\n",
      "  -0.18750673]\n",
      " [ 0.26809509  0.17469631  1.0070922   0.44913101  0.20279733  0.16173403\n",
      "   0.09405082  0.15934325  0.01757216  0.26297426 -0.09527385 -0.01162687\n",
      "   0.19229708]\n",
      " [-0.27516974  0.26867072  0.44913101  1.0070922  -0.10161795 -0.32802847\n",
      "  -0.4026876   0.38895703 -0.21705802  0.01275967 -0.25428449 -0.30031831\n",
      "  -0.43572181]\n",
      " [ 0.23703425 -0.03184697  0.20279733 -0.10161795  1.0070922   0.18356106\n",
      "   0.16698341 -0.31275131  0.26207895  0.15237759  0.04270468  0.03007895\n",
      "   0.34142812]\n",
      " [ 0.31671433 -0.32482824  0.16173403 -0.32802847  0.18356106  1.0070922\n",
      "   0.86413313 -0.4576375   0.62739301 -0.06254654  0.45572406  0.71439803\n",
      "   0.53185581]\n",
      " [ 0.27851441 -0.42013761  0.09405082 -0.4026876   0.16698341  0.86413313\n",
      "   1.0070922  -0.58037954  0.66722271 -0.20619231  0.5913848   0.80281821\n",
      "   0.54364005]\n",
      " [-0.10086553  0.33304303  0.15934325  0.38895703 -0.31275131 -0.4576375\n",
      "  -0.58037954  1.0070922  -0.32612799  0.19408361 -0.3308522  -0.51346418\n",
      "  -0.33294415]\n",
      " [ 0.1305509  -0.22082499  0.01757216 -0.21705802  0.26207895  0.62739301\n",
      "   0.66722271 -0.32612799  1.0070922  -0.03153532  0.31249257  0.50922193\n",
      "   0.35522199]\n",
      " [ 0.57003979  0.30464878  0.26297426  0.01275967  0.15237759 -0.06254654\n",
      "  -0.20619231  0.19408361 -0.03153532  1.0070922  -0.54975259 -0.45627551\n",
      "   0.31188331]\n",
      " [-0.06801958 -0.54532022 -0.09527385 -0.25428449  0.04270468  0.45572406\n",
      "   0.5913848  -0.3308522   0.31249257 -0.54975259  1.0070922   0.60932504\n",
      "   0.22836735]\n",
      " [ 0.05747774 -0.39388534 -0.01162687 -0.30031831  0.03007895  0.71439803\n",
      "   0.80281821 -0.51346418  0.50922193 -0.45627551  0.60932504  1.0070922\n",
      "   0.30649834]\n",
      " [ 0.62420905 -0.18750673  0.19229708 -0.43572181  0.34142812  0.53185581\n",
      "   0.54364005 -0.33294415  0.35522199  0.31188331  0.22836735  0.30649834\n",
      "   1.0070922 ]]\n"
     ]
    }
   ],
   "source": [
    "cov_mat = np.cov(X_train.T)    # another simple approach for Covariance matrix without typing covariance formula\n",
    "print('Covariance matrix \\n%s' %cov_mat)"
   ]
  },
  {
   "cell_type": "code",
   "execution_count": 65,
   "metadata": {},
   "outputs": [
    {
     "name": "stdout",
     "output_type": "stream",
     "text": [
      "Eigenvectors \n",
      "[[ 0.12959991  0.49807323 -0.1383815   0.24199813  0.17279973  0.17873289\n",
      "  -0.09000534 -0.08850175 -0.26402263  0.48169166 -0.43303897 -0.2793571\n",
      "   0.11125519]\n",
      " [-0.24464064  0.23168482  0.08422378  0.03501265 -0.58431883  0.50041745\n",
      "  -0.44755409  0.02912494  0.05505047  0.08986837  0.18860336  0.13627368\n",
      "  -0.14108829]\n",
      " [-0.01018912  0.31496874  0.63988217  0.00978418  0.26362755  0.16064973\n",
      "   0.06751248 -0.1213575   0.01688933 -0.37909702  0.0325249  -0.32898212\n",
      "  -0.35109208]\n",
      " [-0.24051579 -0.02321825  0.62195017 -0.0922443   0.02622374 -0.0559492\n",
      "   0.24334226  0.08600336 -0.05553175  0.51955024  0.13288449  0.22277751\n",
      "   0.36816801]\n",
      " [ 0.12649451  0.25841951  0.02997765 -0.82788074  0.08753303 -0.07810127\n",
      "  -0.30855505  0.09468425  0.06758476 -0.07256418 -0.26176222  0.13059365\n",
      "   0.13263758]\n",
      " [ 0.38944115  0.1006849   0.17115651  0.16969861 -0.16632648 -0.0217019\n",
      "   0.08597346 -0.36183225 -0.3119664  -0.21081573 -0.21572363  0.65199927\n",
      "  -0.01582547]\n",
      " [ 0.42757808  0.02097952  0.12464239  0.12346501 -0.10686668  0.04491501\n",
      "   0.06064567  0.85712436 -0.14445235 -0.03557095 -0.02588866  0.02672564\n",
      "  -0.10326349]\n",
      " [-0.30505669  0.0399057   0.17100464  0.39521252  0.10735201 -0.45316488\n",
      "  -0.56383754  0.16174139  0.03779118 -0.22998878 -0.21323232  0.08341792\n",
      "   0.22848836]\n",
      " [ 0.30775255  0.06746036  0.15155321 -0.06413801 -0.52323021 -0.58035398\n",
      "  -0.08171916 -0.19425527 -0.05533473  0.17940325  0.15164099 -0.38787224\n",
      "  -0.0998717 ]\n",
      " [-0.11027186  0.53087111 -0.14612801  0.10827243 -0.02931966 -0.27220968\n",
      "   0.31061932  0.09718855  0.5762829   0.101621   -0.01409547  0.28818112\n",
      "  -0.25763558]\n",
      " [ 0.30710508 -0.27161729  0.10692701  0.05295673  0.38019616 -0.00633457\n",
      "  -0.42574367 -0.09265306  0.21977435  0.42699892  0.13285265  0.19455725\n",
      "  -0.44397073]\n",
      " [ 0.37636185 -0.16071181  0.17144241  0.14487111 -0.14033771  0.25220324\n",
      "  -0.00506355 -0.1046235   0.6444231  -0.07102473 -0.23890199 -0.15064551\n",
      "   0.43333198]\n",
      " [ 0.2811085   0.36547344 -0.13178214  0.07973043  0.24774953  0.01400986\n",
      "  -0.13851706 -0.04211232 -0.03100444 -0.11178512  0.70645439  0.04073879\n",
      "   0.40859824]]\n",
      "\n",
      "Eigenvalues \n",
      "[4.82894083 2.52920254 1.40778607 0.97170248 0.81772614 0.64269609\n",
      " 0.53904343 0.09124383 0.16401706 0.32677915 0.30227988 0.22672631\n",
      " 0.24405475]\n"
     ]
    }
   ],
   "source": [
    "# Next, we perform an eigen decomposition on the covariance matrix:\n",
    "\n",
    "eig_vals, eig_vecs = np.linalg.eig(cov_mat)\n",
    "\n",
    "print('Eigenvectors \\n%s' %eig_vecs)\n",
    "print('\\nEigenvalues \\n%s' %eig_vals)"
   ]
  },
  {
   "cell_type": "code",
   "execution_count": 66,
   "metadata": {},
   "outputs": [
    {
     "data": {
      "text/plain": [
       "[(4.8289408339225215,\n",
       "  array([ 0.12959991, -0.24464064, -0.01018912, -0.24051579,  0.12649451,\n",
       "          0.38944115,  0.42757808, -0.30505669,  0.30775255, -0.11027186,\n",
       "          0.30710508,  0.37636185,  0.2811085 ])),\n",
       " (2.529202544186417,\n",
       "  array([ 0.49807323,  0.23168482,  0.31496874, -0.02321825,  0.25841951,\n",
       "          0.1006849 ,  0.02097952,  0.0399057 ,  0.06746036,  0.53087111,\n",
       "         -0.27161729, -0.16071181,  0.36547344])),\n",
       " (1.4077860734697651,\n",
       "  array([-0.1383815 ,  0.08422378,  0.63988217,  0.62195017,  0.02997765,\n",
       "          0.17115651,  0.12464239,  0.17100464,  0.15155321, -0.14612801,\n",
       "          0.10692701,  0.17144241, -0.13178214])),\n",
       " (0.9717024794763274,\n",
       "  array([ 0.24199813,  0.03501265,  0.00978418, -0.0922443 , -0.82788074,\n",
       "          0.16969861,  0.12346501,  0.39521252, -0.06413801,  0.10827243,\n",
       "          0.05295673,  0.14487111,  0.07973043])),\n",
       " (0.817726141338358,\n",
       "  array([ 0.17279973, -0.58431883,  0.26362755,  0.02622374,  0.08753303,\n",
       "         -0.16632648, -0.10686668,  0.10735201, -0.52323021, -0.02931966,\n",
       "          0.38019616, -0.14033771,  0.24774953])),\n",
       " (0.6426960928882302,\n",
       "  array([ 0.17873289,  0.50041745,  0.16064973, -0.0559492 , -0.07810127,\n",
       "         -0.0217019 ,  0.04491501, -0.45316488, -0.58035398, -0.27220968,\n",
       "         -0.00633457,  0.25220324,  0.01400986])),\n",
       " (0.539043433256971,\n",
       "  array([-0.09000534, -0.44755409,  0.06751248,  0.24334226, -0.30855505,\n",
       "          0.08597346,  0.06064567, -0.56383754, -0.08171916,  0.31061932,\n",
       "         -0.42574367, -0.00506355, -0.13851706])),\n",
       " (0.09124383308608718,\n",
       "  array([-0.08850175,  0.02912494, -0.1213575 ,  0.08600336,  0.09468425,\n",
       "         -0.36183225,  0.85712436,  0.16174139, -0.19425527,  0.09718855,\n",
       "         -0.09265306, -0.1046235 , -0.04211232])),\n",
       " (0.16401706132420635,\n",
       "  array([-0.26402263,  0.05505047,  0.01688933, -0.05553175,  0.06758476,\n",
       "         -0.3119664 , -0.14445235,  0.03779118, -0.05533473,  0.5762829 ,\n",
       "          0.21977435,  0.6444231 , -0.03100444])),\n",
       " (0.32677915004292307,\n",
       "  array([ 0.48169166,  0.08986837, -0.37909702,  0.51955024, -0.07256418,\n",
       "         -0.21081573, -0.03557095, -0.22998878,  0.17940325,  0.101621  ,\n",
       "          0.42699892, -0.07102473, -0.11178512])),\n",
       " (0.30227987874900986,\n",
       "  array([-0.43303897,  0.18860336,  0.0325249 ,  0.13288449, -0.26176222,\n",
       "         -0.21572363, -0.02588866, -0.21323232,  0.15164099, -0.01409547,\n",
       "          0.13285265, -0.23890199,  0.70645439])),\n",
       " (0.2267263071015333,\n",
       "  array([-0.2793571 ,  0.13627368, -0.32898212,  0.22277751,  0.13059365,\n",
       "          0.65199927,  0.02672564,  0.08341792, -0.38787224,  0.28818112,\n",
       "          0.19455725, -0.15064551,  0.04073879])),\n",
       " (0.24405475271792992,\n",
       "  array([ 0.11125519, -0.14108829, -0.35109208,  0.36816801,  0.13263758,\n",
       "         -0.01582547, -0.10326349,  0.22848836, -0.0998717 , -0.25763558,\n",
       "         -0.44397073,  0.43333198,  0.40859824]))]"
      ]
     },
     "execution_count": 66,
     "metadata": {},
     "output_type": "execute_result"
    }
   ],
   "source": [
    "# Make a list of (eigenvalue, eigenvector) tuples\n",
    "\n",
    "eig_pairs = [(np.abs(eig_vals[i]), eig_vecs[:,i]) for i in range(len(eig_vals))]\n",
    "eig_pairs"
   ]
  },
  {
   "cell_type": "code",
   "execution_count": 67,
   "metadata": {},
   "outputs": [
    {
     "name": "stdout",
     "output_type": "stream",
     "text": [
      "Eigenvalues in descending order:\n",
      "4.8289408339225215\n",
      "2.529202544186417\n",
      "1.4077860734697651\n",
      "0.9717024794763274\n",
      "0.817726141338358\n",
      "0.6426960928882302\n",
      "0.539043433256971\n",
      "0.32677915004292307\n",
      "0.30227987874900986\n",
      "0.24405475271792992\n",
      "0.2267263071015333\n",
      "0.16401706132420635\n",
      "0.09124383308608718\n"
     ]
    }
   ],
   "source": [
    "# Sort the (eigenvalue, eigenvector) tuples from high to low\n",
    "\n",
    "eig_pairs.sort(key = lambda x:x[0], reverse = True)\n",
    "\n",
    "# Visually confirm that the list is correctly sorted by decreasing eigenvalues\n",
    "\n",
    "print('Eigenvalues in descending order:')\n",
    "for i in eig_pairs:\n",
    "    print(i[0])"
   ]
  },
  {
   "cell_type": "markdown",
   "metadata": {},
   "source": [
    "### Explained Variance:\n",
    "After sorting the eigenpairs, the next question is \"how many principal components are we going to choose for our new feature subspace?\" A useful measure is the so-called \"explained variance,\" which can be calculated from the eigenvalues. The explained variance tells us how much information (variance) can be attributed to each of the principal components."
   ]
  },
  {
   "cell_type": "code",
   "execution_count": 68,
   "metadata": {},
   "outputs": [
    {
     "data": {
      "text/plain": [
       "array([ 36.88410929,  56.20250359,  66.9553658 ,  74.37736199,\n",
       "        80.62326588,  85.53226638,  89.6495537 ,  92.14553746,\n",
       "        94.45439244,  96.31851596,  98.05028244,  99.30306715,\n",
       "       100.        ])"
      ]
     },
     "execution_count": 68,
     "metadata": {},
     "output_type": "execute_result"
    }
   ],
   "source": [
    "tot = sum(eig_vals)\n",
    "var_exp = [(i / tot)*100 for i in sorted(eig_vals, reverse=True)]\n",
    "cum_var_exp = np.cumsum(var_exp)\n",
    "cum_var_exp"
   ]
  },
  {
   "cell_type": "code",
   "execution_count": 69,
   "metadata": {},
   "outputs": [],
   "source": [
    "# In the above array we see that the first feature explains roughly 36.88% of the variance within our data set \n",
    "# while the second explain 56.20 and so on."
   ]
  },
  {
   "cell_type": "code",
   "execution_count": 70,
   "metadata": {},
   "outputs": [
    {
     "data": {
      "text/plain": [
       "Text(0,0.5,'Cummulative explained variance')"
      ]
     },
     "execution_count": 70,
     "metadata": {},
     "output_type": "execute_result"
    },
    {
     "data": {
      "image/png": "[encoded data removed]",
      "text/plain": [
       "<matplotlib.figure.Figure at 0x2a71d155630>"
      ]
     },
     "metadata": {},
     "output_type": "display_data"
    }
   ],
   "source": [
    "plt.plot(cum_var_exp)\n",
    "plt.xlabel('Number of Components')\n",
    "plt.ylabel('Cummulative explained variance')"
   ]
  },
  {
   "cell_type": "code",
   "execution_count": 71,
   "metadata": {},
   "outputs": [],
   "source": [
    "# The above plot shows almost 90% variance by the first 12 components."
   ]
  },
  {
   "cell_type": "markdown",
   "metadata": {},
   "source": [
    "### Applying PCA"
   ]
  },
  {
   "cell_type": "code",
   "execution_count": 73,
   "metadata": {},
   "outputs": [
    {
     "data": {
      "text/plain": [
       "((142, 12), (36, 12))"
      ]
     },
     "execution_count": 73,
     "metadata": {},
     "output_type": "execute_result"
    }
   ],
   "source": [
    "from sklearn.decomposition import PCA\n",
    "pca = PCA(n_components=12, random_state =42)\n",
    "X_train = pca.fit_transform(X_train)\n",
    "X_test = pca.transform(X_test)\n",
    "\n",
    "X_train.shape, X_test.shape\n",
    "\n",
    "# here n_components is the final number of extracted features in your new data set \n",
    "\n",
    "# How many n_components or extracted features u need to choose ? (to reduce the dimentionality of the dataset)\n",
    "\n",
    "# Lets start with 2 pricipal components(i.e, 2 exracted features) and see the result u get \n",
    "# If we get good results with 2 well we'll be able to visualize the training set and test set result in 2 dimensions.\n",
    "# If we get poor results and we see on the graph that we cant separate the three classes(i.e,our dependent variable has \n",
    "# 3 classes (1,2,3) ) properly then we go for higher number of principal components like 3,4,... and at some point we'll get\n",
    "# *** some extracted features that explian well enough \"variance\" which is exactly what PCA about."
   ]
  },
  {
   "cell_type": "code",
   "execution_count": null,
   "metadata": {},
   "outputs": [],
   "source": []
  },
  {
   "cell_type": "markdown",
   "metadata": {},
   "source": [
    "### Training the Logistic Regression model on the Training set"
   ]
  },
  {
   "cell_type": "code",
   "execution_count": 74,
   "metadata": {},
   "outputs": [
    {
     "data": {
      "text/plain": [
       "LogisticRegression(C=1.0, class_weight=None, dual=False, fit_intercept=True,\n",
       "          intercept_scaling=1, max_iter=100, multi_class='ovr', n_jobs=1,\n",
       "          penalty='l2', random_state=0, solver='liblinear', tol=0.0001,\n",
       "          verbose=0, warm_start=False)"
      ]
     },
     "execution_count": 74,
     "metadata": {},
     "output_type": "execute_result"
    }
   ],
   "source": [
    "from sklearn.linear_model import LogisticRegression\n",
    "classifier = LogisticRegression(random_state = 0)\n",
    "classifier.fit(X_train, y_train)"
   ]
  },
  {
   "cell_type": "code",
   "execution_count": 75,
   "metadata": {},
   "outputs": [
    {
     "data": {
      "text/plain": [
       "array([1, 3, 2, 1, 2, 2, 1, 3, 2, 2, 3, 3, 1, 2, 3, 2, 1, 1, 2, 1, 2, 1,\n",
       "       1, 2, 2, 2, 2, 2, 2, 3, 1, 1, 2, 1, 1, 1], dtype=int64)"
      ]
     },
     "execution_count": 75,
     "metadata": {},
     "output_type": "execute_result"
    }
   ],
   "source": [
    "y_pred = classifier.predict(X_test)\n",
    "y_pred"
   ]
  },
  {
   "cell_type": "code",
   "execution_count": 76,
   "metadata": {},
   "outputs": [
    {
     "data": {
      "text/plain": [
       "array([1, 3, 2, 1, 2, 2, 1, 3, 2, 2, 3, 3, 1, 2, 3, 2, 1, 1, 2, 1, 2, 1,\n",
       "       1, 2, 2, 2, 2, 2, 2, 3, 1, 1, 2, 1, 1, 1], dtype=int64)"
      ]
     },
     "execution_count": 76,
     "metadata": {},
     "output_type": "execute_result"
    }
   ],
   "source": [
    "y_test"
   ]
  },
  {
   "cell_type": "code",
   "execution_count": 77,
   "metadata": {},
   "outputs": [
    {
     "data": {
      "text/html": [
       "<div>\n",
       "<style scoped>\n",
       "    .dataframe tbody tr th:only-of-type {\n",
       "        vertical-align: middle;\n",
       "    }\n",
       "\n",
       "    .dataframe tbody tr th {\n",
       "        vertical-align: top;\n",
       "    }\n",
       "\n",
       "    .dataframe thead th {\n",
       "        text-align: right;\n",
       "    }\n",
       "</style>\n",
       "<table border=\"1\" class=\"dataframe\">\n",
       "  <thead>\n",
       "    <tr style=\"text-align: right;\">\n",
       "      <th></th>\n",
       "      <th>0</th>\n",
       "      <th>1</th>\n",
       "    </tr>\n",
       "  </thead>\n",
       "  <tbody>\n",
       "    <tr>\n",
       "      <th>0</th>\n",
       "      <td>1</td>\n",
       "      <td>1</td>\n",
       "    </tr>\n",
       "    <tr>\n",
       "      <th>1</th>\n",
       "      <td>3</td>\n",
       "      <td>3</td>\n",
       "    </tr>\n",
       "    <tr>\n",
       "      <th>2</th>\n",
       "      <td>2</td>\n",
       "      <td>2</td>\n",
       "    </tr>\n",
       "    <tr>\n",
       "      <th>3</th>\n",
       "      <td>1</td>\n",
       "      <td>1</td>\n",
       "    </tr>\n",
       "    <tr>\n",
       "      <th>4</th>\n",
       "      <td>2</td>\n",
       "      <td>2</td>\n",
       "    </tr>\n",
       "  </tbody>\n",
       "</table>\n",
       "</div>"
      ],
      "text/plain": [
       "   0  1\n",
       "0  1  1\n",
       "1  3  3\n",
       "2  2  2\n",
       "3  1  1\n",
       "4  2  2"
      ]
     },
     "execution_count": 77,
     "metadata": {},
     "output_type": "execute_result"
    }
   ],
   "source": [
    "df = pd.DataFrame(data = [y_pred,y_test])\n",
    "df.T.head()"
   ]
  },
  {
   "cell_type": "markdown",
   "metadata": {},
   "source": [
    "### Checking Accuracy with Confusion Matrix"
   ]
  },
  {
   "cell_type": "code",
   "execution_count": 78,
   "metadata": {},
   "outputs": [
    {
     "name": "stdout",
     "output_type": "stream",
     "text": [
      "[[14  0  0]\n",
      " [ 0 16  0]\n",
      " [ 0  0  6]]\n"
     ]
    },
    {
     "data": {
      "text/plain": [
       "1.0"
      ]
     },
     "execution_count": 78,
     "metadata": {},
     "output_type": "execute_result"
    }
   ],
   "source": [
    "from sklearn.metrics import confusion_matrix, accuracy_score\n",
    "y_pred = classifier.predict(X_test)\n",
    "cm = confusion_matrix(y_test, y_pred)\n",
    "print(cm)\n",
    "accuracy_score(y_test, y_pred)"
   ]
  },
  {
   "cell_type": "code",
   "execution_count": null,
   "metadata": {},
   "outputs": [],
   "source": [
    "# So we got 100% accuracy witn n_components = 12"
   ]
  }
 ],
 "metadata": {
  "kernelspec": {
   "display_name": "Python 3",
   "language": "python",
   "name": "python3"
  },
  "language_info": {
   "codemirror_mode": {
    "name": "ipython",
    "version": 3
   },
   "file_extension": ".py",
   "mimetype": "text/x-python",
   "name": "python",
   "nbconvert_exporter": "python",
   "pygments_lexer": "ipython3",
   "version": "3.6.4"
  }
 },
 "nbformat": 4,
 "nbformat_minor": 2
}
